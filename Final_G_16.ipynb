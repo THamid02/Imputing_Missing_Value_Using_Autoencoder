{
 "cells": [
  {
   "cell_type": "markdown",
   "id": "7e4b8ba2",
   "metadata": {},
   "source": [
    "# A project titled \"Using Autoencoder to Impute Missing Values in a Dataset\" for the course ICT4362.\n",
    "\n",
    "## The project is being supervised by, Mahir Mahbub, Lecturer, Dept. of IRE, BDU.\n",
    "\n",
    "### Project Team:\n",
    "### Sadat Hasnat Sabbir (ID: 1901002) || Md. Nur-E-Ferdous (ID: 1901033) || Tasnima Hamid (ID: 1901043)"
   ]
  },
  {
   "cell_type": "markdown",
   "id": "53ac54a8",
   "metadata": {},
   "source": [
    "### Importing Libraries "
   ]
  },
  {
   "cell_type": "code",
   "execution_count": 1,
   "id": "edc870ab",
   "metadata": {},
   "outputs": [],
   "source": [
    "import random\n",
    "import pandas as pd\n",
    "import numpy as np\n",
    "import matplotlib.pylab as plt\n",
    "import seaborn as sns\n",
    "import tensorflow as tf\n",
    "from keras.utils import to_categorical\n",
    "from sklearn.preprocessing import LabelEncoder\n",
    "from keras.losses import mse\n",
    "from keras.models import Sequential\n",
    "from keras.layers import Dropout, Dense\n",
    "from collections import defaultdict\n",
    "from keras.regularizers import l1_l2\n",
    "from keras.utils import plot_model\n",
    "import pydot\n",
    "import graphviz\n",
    "\n",
    "%matplotlib inline"
   ]
  },
  {
   "cell_type": "markdown",
   "id": "167a204c",
   "metadata": {},
   "source": [
    "### Load Dataset "
   ]
  },
  {
   "cell_type": "code",
   "execution_count": 2,
   "id": "02bcebf1",
   "metadata": {},
   "outputs": [],
   "source": [
    "header = ['class','capshape', 'capsurface',\n",
    "'capcolor',\n",
    "'bruises',\n",
    "'odor',\n",
    "'gillattachment',\n",
    "'gillspacing',\n",
    "'gillsize',\n",
    "'gillcolor',\n",
    "'stalkshape',\n",
    "'stalkroot',\n",
    "'stalksurfaceabovering',\n",
    "'stalksurfacebelowring',\n",
    "'stalkcolorabovering',\n",
    "'stalkcolorbelowring',\n",
    "'veiltype',\n",
    "'veilcolor',\n",
    "'ringnumber',\n",
    "'ringtype',\n",
    "'sporeprintcolor', \n",
    "'population',\n",
    "'habitat']\n",
    "df = pd.read_csv(\"mushroom/agaricus-lepiota.data\", names=header)"
   ]
  },
  {
   "cell_type": "code",
   "execution_count": 3,
   "id": "d3b904bf",
   "metadata": {},
   "outputs": [
    {
     "name": "stdout",
     "output_type": "stream",
     "text": [
      "  class capshape capsurface capcolor bruises odor gillattachment gillspacing  \\\n",
      "0     p        x          s        n       t    p              f           c   \n",
      "1     e        x          s        y       t    a              f           c   \n",
      "2     e        b          s        w       t    l              f           c   \n",
      "3     p        x          y        w       t    p              f           c   \n",
      "4     e        x          s        g       f    n              f           w   \n",
      "\n",
      "  gillsize gillcolor  ... stalksurfacebelowring stalkcolorabovering  \\\n",
      "0        n         k  ...                     s                   w   \n",
      "1        b         k  ...                     s                   w   \n",
      "2        b         n  ...                     s                   w   \n",
      "3        n         n  ...                     s                   w   \n",
      "4        b         k  ...                     s                   w   \n",
      "\n",
      "  stalkcolorbelowring veiltype veilcolor ringnumber ringtype sporeprintcolor  \\\n",
      "0                   w        p         w          o        p               k   \n",
      "1                   w        p         w          o        p               n   \n",
      "2                   w        p         w          o        p               n   \n",
      "3                   w        p         w          o        p               k   \n",
      "4                   w        p         w          o        e               n   \n",
      "\n",
      "  population habitat  \n",
      "0          s       u  \n",
      "1          n       g  \n",
      "2          n       m  \n",
      "3          s       u  \n",
      "4          a       g  \n",
      "\n",
      "[5 rows x 23 columns]\n"
     ]
    }
   ],
   "source": [
    "print(df.head())"
   ]
  },
  {
   "cell_type": "markdown",
   "id": "8298be5f",
   "metadata": {},
   "source": [
    "### Data Preprocessing "
   ]
  },
  {
   "cell_type": "markdown",
   "id": "ab0e16e0",
   "metadata": {},
   "source": [
    "#### Creating a new dataframe df_incomplete with a specified proportion of missing values, which will be used to evaluate the imputation performance of the Autoencoder. "
   ]
  },
  {
   "cell_type": "code",
   "execution_count": 4,
   "id": "b1c3bbc4",
   "metadata": {},
   "outputs": [
    {
     "name": "stdout",
     "output_type": "stream",
     "text": [
      "     class capshape capsurface capcolor bruises odor gillattachment  \\\n",
      "0        p        x          s        n       t    p              f   \n",
      "1        e        x          s        y       t    a              f   \n",
      "2        e        b          s        w       t    l              f   \n",
      "3        p        x          y        w       t    p              f   \n",
      "4        e        x          s        g       f    n              f   \n",
      "...    ...      ...        ...      ...     ...  ...            ...   \n",
      "8119     e        k          s        n       f    n              a   \n",
      "8120     e        x          s        n       f    n              a   \n",
      "8121     e        f          s        n       f  NaN              a   \n",
      "8122   NaN        k          y        n       f    y              f   \n",
      "8123     e        x          s        n       f    n              a   \n",
      "\n",
      "     gillspacing gillsize gillcolor  ... stalksurfacebelowring  \\\n",
      "0              c        n         k  ...                     s   \n",
      "1              c        b         k  ...                     s   \n",
      "2              c        b         n  ...                     s   \n",
      "3              c        n         n  ...                     s   \n",
      "4              w        b         k  ...                     s   \n",
      "...          ...      ...       ...  ...                   ...   \n",
      "8119           c        b         y  ...                     s   \n",
      "8120           c        b         y  ...                   NaN   \n",
      "8121           c        b         n  ...                     s   \n",
      "8122         NaN        n         b  ...                     k   \n",
      "8123           c        b         y  ...                     s   \n",
      "\n",
      "     stalkcolorabovering stalkcolorbelowring veiltype veilcolor ringnumber  \\\n",
      "0                      w                 NaN        p       NaN          o   \n",
      "1                      w                   w        p         w          o   \n",
      "2                      w                   w        p         w          o   \n",
      "3                      w                   w        p         w        NaN   \n",
      "4                      w                   w        p         w          o   \n",
      "...                  ...                 ...      ...       ...        ...   \n",
      "8119                 NaN                   o        p         o          o   \n",
      "8120                   o                   o        p         n          o   \n",
      "8121                   o                   o        p         o          o   \n",
      "8122                   w                   w        p       NaN          o   \n",
      "8123                   o                   o        p         o          o   \n",
      "\n",
      "     ringtype sporeprintcolor population habitat  \n",
      "0           p               k          s       u  \n",
      "1           p             NaN          n       g  \n",
      "2           p               n          n     NaN  \n",
      "3           p               k          s       u  \n",
      "4           e               n          a       g  \n",
      "...       ...             ...        ...     ...  \n",
      "8119        p               b          c       l  \n",
      "8120      NaN             NaN          v       l  \n",
      "8121        p             NaN          c       l  \n",
      "8122        e               w          v       l  \n",
      "8123        p               o          c       l  \n",
      "\n",
      "[8124 rows x 23 columns]\n"
     ]
    }
   ],
   "source": [
    "prob_missing = 0.1\n",
    "df_incomplete = df.copy()\n",
    "ix = [(row, col) for row in range(df.shape[0]) for col in range(df.shape[1])]\n",
    "for row, col in random.sample(ix, int(round(prob_missing * len(ix)))):\n",
    "    df_incomplete.iat[row, col] = np.nan\n",
    "\n",
    "print(df_incomplete)"
   ]
  },
  {
   "cell_type": "code",
   "execution_count": 5,
   "id": "48242b3c",
   "metadata": {},
   "outputs": [
    {
     "name": "stdout",
     "output_type": "stream",
     "text": [
      "class                    857\n",
      "capshape                 784\n",
      "capsurface               805\n",
      "capcolor                 799\n",
      "bruises                  812\n",
      "odor                     815\n",
      "gillattachment           825\n",
      "gillspacing              777\n",
      "gillsize                 807\n",
      "gillcolor                835\n",
      "stalkshape               830\n",
      "stalkroot                829\n",
      "stalksurfaceabovering    783\n",
      "stalksurfacebelowring    787\n",
      "stalkcolorabovering      809\n",
      "stalkcolorbelowring      785\n",
      "veiltype                 861\n",
      "veilcolor                854\n",
      "ringnumber               804\n",
      "ringtype                 827\n",
      "sporeprintcolor          785\n",
      "population               823\n",
      "habitat                  792\n",
      "dtype: int64\n"
     ]
    }
   ],
   "source": [
    "print(df_incomplete.isna().sum())"
   ]
  },
  {
   "cell_type": "markdown",
   "id": "c135a176",
   "metadata": {},
   "source": [
    "#### Encoding the categorical variables in the df_incomplete dataframe using one-hot encoding and also create indicator columns to represent missing values "
   ]
  },
  {
   "cell_type": "code",
   "execution_count": 6,
   "id": "1629778f",
   "metadata": {},
   "outputs": [],
   "source": [
    "missing_encoded = pd.get_dummies(df_incomplete)\n",
    "for col in df.columns:\n",
    "    missing_cols = missing_encoded.columns.str.startswith(str(col) + \"_\")\n",
    "    missing_encoded.loc[df_incomplete[col].isnull(), missing_cols]"
   ]
  },
  {
   "cell_type": "markdown",
   "id": "1f7c542c",
   "metadata": {},
   "source": [
    "### Reconstruction Error "
   ]
  },
  {
   "cell_type": "code",
   "execution_count": 7,
   "id": "c5379890",
   "metadata": {},
   "outputs": [],
   "source": [
    "#Reconstruction error\n",
    "def make_reconstruction_loss(n_features):\n",
    "    def reconstruction_loss(input_and_mask, y_pred):\n",
    "        X_values = input_and_mask[:, :n_features]\n",
    "        missing_mask = input_and_mask[:, n_features:]\n",
    "        observed_mask = 1 - missing_mask\n",
    "        X_values_observed = X_values * observed_mask\n",
    "        pred_observed = y_pred * observed_mask\n",
    "        return mse(y_true=X_values_observed, y_pred=pred_observed)\n",
    "    return reconstruction_loss\n",
    "\n",
    "def masked_mae(X_true, X_pred, mask):\n",
    "    masked_diff = X_true[mask] - X_pred[mask]\n",
    "    return np.mean(np.abs(masked_diff))"
   ]
  },
  {
   "cell_type": "markdown",
   "id": "e6cc02ea",
   "metadata": {},
   "source": [
    "### Building The Autoencoder "
   ]
  },
  {
   "cell_type": "code",
   "execution_count": 8,
   "id": "9e40660a",
   "metadata": {},
   "outputs": [],
   "source": [
    "#Autoencoder build\n",
    "class Autoencoder:\n",
    "    def __init__(self, data,\n",
    "                 recurrent_weight=0.5,\n",
    "                 optimizer=\"adam\",\n",
    "                 dropout_probability=0.5,\n",
    "                 hidden_activation=\"relu\",\n",
    "                 output_activation=\"sigmoid\",\n",
    "                 init=\"glorot_normal\",\n",
    "                 l1_penalty=0,\n",
    "                 l2_penalty=0):\n",
    "        self.data = data.copy()\n",
    "        self.recurrent_weight = recurrent_weight\n",
    "        self.optimizer = optimizer\n",
    "        self.dropout_probability = dropout_probability\n",
    "        self.hidden_activation = hidden_activation\n",
    "        self.output_activation = output_activation\n",
    "        self.init = init\n",
    "        self.l1_penalty = l1_penalty\n",
    "        self.l2_penalty = l2_penalty\n",
    "    def _get_hidden_layer_sizes(self):\n",
    "        n_dims = self.data.shape[1]\n",
    "        return [\n",
    "            min(2000, 8 * n_dims),\n",
    "            min(500, 2 * n_dims),\n",
    "            int(np.ceil(0.5 * n_dims)),\n",
    "        ]\n",
    "    def _create_model(self):\n",
    "        hidden_layer_sizes = self._get_hidden_layer_sizes()\n",
    "        first_layer_size = hidden_layer_sizes[0]\n",
    "        n_dims = self.data.shape[1]\n",
    "        model = Sequential()\n",
    "        model.add(Dense(\n",
    "            first_layer_size,\n",
    "            input_dim= 2 * n_dims,\n",
    "            activation=self.hidden_activation,\n",
    "            kernel_regularizer=l1_l2(self.l1_penalty, self.l2_penalty),\n",
    "            kernel_initializer=self.init))\n",
    "        model.add(Dropout(self.dropout_probability))\n",
    "        for layer_size in hidden_layer_sizes[1:]:\n",
    "            model.add(Dense(\n",
    "                layer_size,\n",
    "                activation=self.hidden_activation,\n",
    "                kernel_regularizer=l1_l2(self.l1_penalty, self.l2_penalty),\n",
    "                kernel_initializer=self.init,))\n",
    "            model.add(Dropout(self.dropout_probability))\n",
    "        model.add(Dense(\n",
    "            n_dims,\n",
    "            activation=self.output_activation,\n",
    "            kernel_regularizer=l1_l2(self.l1_penalty, self.l2_penalty),\n",
    "            kernel_initializer=self.init,))\n",
    "        loss_function = make_reconstruction_loss(n_dims)\n",
    "        model.compile(optimizer=self.optimizer, loss=loss_function)\n",
    "        return model\n",
    "    def fill(self, missing_mask):\n",
    "        self.data[missing_mask] = -1\n",
    "    def _create_missing_mask(self):\n",
    "        if self.data.dtype != \"f\" and self.data.dtype != \"d\":\n",
    "            self.data = self.data.astype(float)\n",
    "        return np.isnan(self.data)\n",
    "    def _train_epoch(self, model, missing_mask, batch_size):\n",
    "        input_with_mask = np.hstack([self.data, missing_mask])\n",
    "        n_samples = len(input_with_mask)\n",
    "        n_batches = int(np.ceil(n_samples / batch_size))\n",
    "        indices = np.arange(n_samples)\n",
    "        np.random.shuffle(indices)\n",
    "        X_shuffled = input_with_mask[indices]\n",
    "        for batch_idx in range(n_batches):\n",
    "            batch_start = batch_idx * batch_size\n",
    "            batch_end = (batch_idx + 1) * batch_size\n",
    "            batch_data = X_shuffled[batch_start:batch_end, :]\n",
    "            model.train_on_batch(batch_data, batch_data)\n",
    "        return model.predict(input_with_mask)\n",
    "    def train(self, batch_size=256, train_epochs=100):\n",
    "        missing_mask = self._create_missing_mask()\n",
    "        self.fill(missing_mask)\n",
    "        self.model = self._create_model()\n",
    "        observed_mask = ~missing_mask\n",
    "        observed_maes = []\n",
    "        for epoch in range(train_epochs):\n",
    "            X_pred = self._train_epoch(self.model, missing_mask, batch_size)\n",
    "            if epoch == 0:\n",
    "                self.model.summary()\n",
    "            observed_mae = masked_mae(X_true=self.data,\n",
    "                                    X_pred=X_pred,\n",
    "                                    mask=observed_mask)\n",
    "            print(\"observed mae:\", observed_mae)\n",
    "            observed_maes.append(observed_mae)\n",
    "            old_weight = (1.0 - self.recurrent_weight)\n",
    "            self.data[missing_mask] *= old_weight\n",
    "            pred_missing = X_pred[missing_mask]\n",
    "            self.data[missing_mask] += self.recurrent_weight * pred_missing\n",
    "        return self.data.copy(), observed_maes"
   ]
  },
  {
   "cell_type": "markdown",
   "id": "3f06dfa4",
   "metadata": {},
   "source": [
    "### Training the Autoenoder "
   ]
  },
  {
   "cell_type": "code",
   "execution_count": 9,
   "id": "3656a371",
   "metadata": {},
   "outputs": [
    {
     "name": "stdout",
     "output_type": "stream",
     "text": [
      "254/254 [==============================] - 1s 2ms/step\n",
      "Model: \"sequential\"\n",
      "_________________________________________________________________\n",
      " Layer (type)                Output Shape              Param #   \n",
      "=================================================================\n",
      " dense (Dense)               (None, 952)               227528    \n",
      "                                                                 \n",
      " dropout (Dropout)           (None, 952)               0         \n",
      "                                                                 \n",
      " dense_1 (Dense)             (None, 238)               226814    \n",
      "                                                                 \n",
      " dropout_1 (Dropout)         (None, 238)               0         \n",
      "                                                                 \n",
      " dense_2 (Dense)             (None, 60)                14340     \n",
      "                                                                 \n",
      " dropout_2 (Dropout)         (None, 60)                0         \n",
      "                                                                 \n",
      " dense_3 (Dense)             (None, 119)               7259      \n",
      "                                                                 \n",
      "=================================================================\n",
      "Total params: 475941 (1.82 MB)\n",
      "Trainable params: 475941 (1.82 MB)\n",
      "Non-trainable params: 0 (0.00 Byte)\n",
      "_________________________________________________________________\n",
      "observed mae: 0.22340449011374366\n",
      "254/254 [==============================] - 1s 2ms/step\n",
      "observed mae: 0.14196721183812724\n",
      "254/254 [==============================] - 1s 3ms/step\n",
      "observed mae: 0.1192161833321495\n",
      "254/254 [==============================] - 1s 3ms/step\n",
      "observed mae: 0.10965707775632794\n",
      "254/254 [==============================] - 1s 3ms/step\n",
      "observed mae: 0.10096949085359541\n",
      "254/254 [==============================] - 1s 3ms/step\n",
      "observed mae: 0.09522327599481378\n",
      "254/254 [==============================] - 1s 3ms/step\n",
      "observed mae: 0.09031819021862963\n",
      "254/254 [==============================] - 1s 3ms/step\n",
      "observed mae: 0.0871143958918212\n",
      "254/254 [==============================] - 1s 3ms/step\n",
      "observed mae: 0.08342178312236752\n",
      "254/254 [==============================] - 1s 3ms/step\n",
      "observed mae: 0.08080657677202646\n",
      "254/254 [==============================] - 1s 3ms/step\n",
      "observed mae: 0.07767806390198387\n",
      "254/254 [==============================] - 1s 3ms/step\n",
      "observed mae: 0.07592840620005638\n",
      "254/254 [==============================] - 1s 3ms/step\n",
      "observed mae: 0.07373359482417659\n",
      "254/254 [==============================] - 1s 3ms/step\n",
      "observed mae: 0.07187646227785723\n",
      "254/254 [==============================] - 1s 3ms/step\n",
      "observed mae: 0.07053151263579044\n",
      "254/254 [==============================] - 1s 3ms/step\n",
      "observed mae: 0.0695816315383418\n",
      "254/254 [==============================] - 1s 3ms/step\n",
      "observed mae: 0.06882633421781931\n",
      "254/254 [==============================] - 1s 3ms/step\n",
      "observed mae: 0.06761178017909909\n",
      "254/254 [==============================] - 1s 3ms/step\n",
      "observed mae: 0.0672582470846426\n",
      "254/254 [==============================] - 1s 3ms/step\n",
      "observed mae: 0.06555549200796058\n",
      "254/254 [==============================] - 1s 3ms/step\n",
      "observed mae: 0.06625930435300878\n",
      "254/254 [==============================] - 1s 3ms/step\n",
      "observed mae: 0.0645043071036499\n",
      "254/254 [==============================] - 1s 3ms/step\n",
      "observed mae: 0.06489911452575386\n",
      "254/254 [==============================] - 1s 3ms/step\n",
      "observed mae: 0.062372108159508555\n",
      "254/254 [==============================] - 1s 3ms/step\n",
      "observed mae: 0.06339538150008495\n",
      "254/254 [==============================] - 1s 3ms/step\n",
      "observed mae: 0.06270354428823713\n",
      "254/254 [==============================] - 1s 3ms/step\n",
      "observed mae: 0.06182913545967952\n",
      "254/254 [==============================] - 1s 3ms/step\n",
      "observed mae: 0.06093876496361851\n",
      "254/254 [==============================] - 1s 3ms/step\n",
      "observed mae: 0.060954478406905856\n",
      "254/254 [==============================] - 1s 3ms/step\n",
      "observed mae: 0.06008520110962066\n",
      "254/254 [==============================] - 1s 3ms/step\n",
      "observed mae: 0.06037628065891278\n",
      "254/254 [==============================] - 1s 3ms/step\n",
      "observed mae: 0.0591690946671831\n",
      "254/254 [==============================] - 1s 3ms/step\n",
      "observed mae: 0.05942012849218049\n",
      "254/254 [==============================] - 1s 3ms/step\n",
      "observed mae: 0.05829229929623398\n",
      "254/254 [==============================] - 1s 3ms/step\n",
      "observed mae: 0.058102049198703404\n",
      "254/254 [==============================] - 1s 3ms/step\n",
      "observed mae: 0.05814860317707633\n",
      "254/254 [==============================] - 1s 3ms/step\n",
      "observed mae: 0.05735321676904492\n",
      "254/254 [==============================] - 1s 3ms/step\n",
      "observed mae: 0.05685085746207809\n",
      "254/254 [==============================] - 1s 3ms/step\n",
      "observed mae: 0.05660281211635436\n",
      "254/254 [==============================] - 1s 3ms/step\n",
      "observed mae: 0.05572253653773249\n"
     ]
    },
    {
     "data": {
      "image/png": "[encoded data removed]",
      "text/plain": [
       "<Figure size 640x480 with 1 Axes>"
      ]
     },
     "metadata": {},
     "output_type": "display_data"
    }
   ],
   "source": [
    "imputer = Autoencoder(missing_encoded.values)\n",
    "complete_encoded, observed_maes = imputer.train(train_epochs=40, batch_size=256)\n",
    "\n",
    "import matplotlib.pyplot as plt\n",
    "\n",
    "plt.plot(range(1, len(observed_maes) + 1), observed_maes)\n",
    "plt.xlabel('Epoch')\n",
    "plt.ylabel('Observed MAE')\n",
    "plt.title('Observed MAE over Epochs')\n",
    "plt.show()"
   ]
  },
  {
   "cell_type": "code",
   "execution_count": 10,
   "id": "712f106a",
   "metadata": {},
   "outputs": [
    {
     "data": {
      "text/plain": [
       "array([1., 0., 0., 0., 0., 0., 0., 1., 0., 0.])"
      ]
     },
     "execution_count": 10,
     "metadata": {},
     "output_type": "execute_result"
    }
   ],
   "source": [
    "complete_encoded[10, :10]"
   ]
  },
  {
   "cell_type": "code",
   "execution_count": 11,
   "id": "d63d9b98",
   "metadata": {},
   "outputs": [],
   "source": [
    "def mle(row):\n",
    "    res = np.zeros(row.shape[0])\n",
    "    res[np.argmax(row)] = 1\n",
    "    return res\n",
    "col_classes = [len(df[c].unique()) for c in df.columns]\n",
    "dummy_df = pd.get_dummies(df)\n",
    "mle_complete = None\n",
    "for i, cnt in enumerate(col_classes):\n",
    "    start_idx = int(sum(col_classes[0:i]))\n",
    "    col_true = dummy_df.values[:, start_idx:start_idx+cnt]\n",
    "    col_completed = complete_encoded[:, start_idx:start_idx+cnt]\n",
    "    mle_completed = np.apply_along_axis(mle, axis=1, arr=col_completed)\n",
    "    if mle_complete is None:\n",
    "        mle_complete = mle_completed\n",
    "    else:\n",
    "        mle_complete = np.hstack([mle_complete, mle_completed])"
   ]
  },
  {
   "cell_type": "code",
   "execution_count": 12,
   "id": "acd66647",
   "metadata": {},
   "outputs": [
    {
     "data": {
      "text/plain": [
       "array([1., 0., 0., 0., 0., 0., 0., 1., 0., 0.])"
      ]
     },
     "execution_count": 12,
     "metadata": {},
     "output_type": "execute_result"
    }
   ],
   "source": [
    "mle_complete[10, :10]"
   ]
  },
  {
   "cell_type": "markdown",
   "id": "799145ee",
   "metadata": {},
   "source": [
    "### Imputing Missing Values "
   ]
  },
  {
   "cell_type": "code",
   "execution_count": 13,
   "id": "3bec5596",
   "metadata": {},
   "outputs": [],
   "source": [
    "def reverse_dummy(df_dummies):\n",
    "    pos = defaultdict(list)\n",
    "    vals = defaultdict(list)\n",
    "    for i, c in enumerate(df_dummies.columns):\n",
    "        if \"_\" in c:\n",
    "            k, v = c.split(\"_\", 1)\n",
    "            pos[k].append(i)\n",
    "            vals[k].append(v)\n",
    "        else:\n",
    "            pos[\"_\"].append(i)\n",
    "    df = pd.DataFrame({k: pd.Categorical.from_codes(\n",
    "                              np.argmax(df_dummies.iloc[:, pos[k]].values, axis=1),\n",
    "                              vals[k])\n",
    "                      for k in vals})\n",
    "    df[df_dummies.columns[pos[\"_\"]]] = df_dummies.iloc[:, pos[\"_\"]]\n",
    "    return df\n",
    "rev_df = reverse_dummy(pd.DataFrame(data=mle_complete, columns=dummy_df.columns))\n",
    "rev_df = rev_df[list(df.columns)]\n",
    "rev_df.to_csv(\"imputed_data.csv\")"
   ]
  },
  {
   "cell_type": "code",
   "execution_count": 14,
   "id": "66f2c4e9",
   "metadata": {},
   "outputs": [
    {
     "name": "stdout",
     "output_type": "stream",
     "text": [
      "  class capshape capsurface capcolor bruises odor gillattachment gillspacing  \\\n",
      "0     p        x          s        n       t    p              f           c   \n",
      "1     e        x          s        y       t    a              f           c   \n",
      "2     e        b          s        w       t    l              f           c   \n",
      "3     p        x          y        w       t    p              f           c   \n",
      "4     e        x          s        g       f    n              f           w   \n",
      "\n",
      "  gillsize gillcolor  ... stalksurfacebelowring stalkcolorabovering  \\\n",
      "0        n         k  ...                     s                   w   \n",
      "1        b         k  ...                     s                   w   \n",
      "2        b         n  ...                     s                   w   \n",
      "3        n         n  ...                     s                   w   \n",
      "4        b         k  ...                     s                   w   \n",
      "\n",
      "  stalkcolorbelowring veiltype veilcolor ringnumber ringtype sporeprintcolor  \\\n",
      "0                   b        p         n          o        p               k   \n",
      "1                   w        p         w          o        p               b   \n",
      "2                   w        p         w          o        p               n   \n",
      "3                   w        p         w          n        p               k   \n",
      "4                   w        p         w          o        e               n   \n",
      "\n",
      "  population habitat  \n",
      "0          s       u  \n",
      "1          n       g  \n",
      "2          n       d  \n",
      "3          s       u  \n",
      "4          a       g  \n",
      "\n",
      "[5 rows x 23 columns]\n"
     ]
    }
   ],
   "source": [
    "print(rev_df.head())"
   ]
  },
  {
   "cell_type": "code",
   "execution_count": 15,
   "id": "e78cd78f",
   "metadata": {},
   "outputs": [
    {
     "name": "stdout",
     "output_type": "stream",
     "text": [
      "class                    0\n",
      "capshape                 0\n",
      "capsurface               0\n",
      "capcolor                 0\n",
      "bruises                  0\n",
      "odor                     0\n",
      "gillattachment           0\n",
      "gillspacing              0\n",
      "gillsize                 0\n",
      "gillcolor                0\n",
      "stalkshape               0\n",
      "stalkroot                0\n",
      "stalksurfaceabovering    0\n",
      "stalksurfacebelowring    0\n",
      "stalkcolorabovering      0\n",
      "stalkcolorbelowring      0\n",
      "veiltype                 0\n",
      "veilcolor                0\n",
      "ringnumber               0\n",
      "ringtype                 0\n",
      "sporeprintcolor          0\n",
      "population               0\n",
      "habitat                  0\n",
      "dtype: int64\n"
     ]
    }
   ],
   "source": [
    "print(rev_df.isna().sum())"
   ]
  },
  {
   "cell_type": "markdown",
   "id": "b9b8e6b4",
   "metadata": {},
   "source": [
    "### Accuracy "
   ]
  },
  {
   "cell_type": "code",
   "execution_count": 16,
   "id": "46956c0e",
   "metadata": {},
   "outputs": [
    {
     "name": "stdout",
     "output_type": "stream",
     "text": [
      "Imputation performance (MAE): 1.932752421500358\n"
     ]
    }
   ],
   "source": [
    "# Create a mask indicating the observed (non-missing) values in the original data\n",
    "observed_mask = ~np.isnan(missing_encoded.values)\n",
    "\n",
    "# Calculate the imputation performance (MAE) using the masked_mae function\n",
    "imputation_performance = masked_mae(X_true=missing_encoded.values,\n",
    "                                    X_pred=mle_complete,\n",
    "                                    mask=observed_mask)\n",
    "\n",
    "# Print the imputation performance\n",
    "print(\"Imputation performance (MAE):\", imputation_performance*100)"
   ]
  },
  {
   "cell_type": "code",
   "execution_count": 17,
   "id": "f4f6f482",
   "metadata": {},
   "outputs": [
    {
     "name": "stdout",
     "output_type": "stream",
     "text": [
      "Accuracy: 89.45100935499754\n"
     ]
    }
   ],
   "source": [
    "from sklearn.metrics import accuracy_score\n",
    "\n",
    "# Convert the predicted values to class labels\n",
    "imputed_labels = np.argmax(mle_complete, axis=1)\n",
    "\n",
    "# Convert the true values to class labels\n",
    "true_labels = np.argmax(missing_encoded.values, axis=1)\n",
    "\n",
    "# Calculate classification accuracy\n",
    "accuracy = accuracy_score(true_labels, imputed_labels)\n",
    "\n",
    "# Print the classification accuracy\n",
    "print(\"Accuracy:\", accuracy*100)\n"
   ]
  }
 ],
 "metadata": {
  "kernelspec": {
   "display_name": "Python 3 (ipykernel)",
   "language": "python",
   "name": "python3"
  },
  "language_info": {
   "codemirror_mode": {
    "name": "ipython",
    "version": 3
   },
   "file_extension": ".py",
   "mimetype": "text/x-python",
   "name": "python",
   "nbconvert_exporter": "python",
   "pygments_lexer": "ipython3",
   "version": "3.10.9"
  }
 },
 "nbformat": 4,
 "nbformat_minor": 5
}
